{
 "cells": [
  {
   "cell_type": "code",
   "execution_count": 29,
   "metadata": {
    "scrolled": true
   },
   "outputs": [
    {
     "name": "stdout",
     "output_type": "stream",
     "text": [
      "{'areaCode': {<class 'type'>, <class 'int'>, <class 'NoneType'>},\n",
      " 'areaLand': {<class 'float'>, <class 'list'>, <class 'NoneType'>},\n",
      " 'areaMetro': {<class 'float'>, <class 'NoneType'>},\n",
      " 'areaUrban': {<class 'float'>, <class 'NoneType'>},\n",
      " 'elevation': {<class 'float'>, <class 'list'>, <class 'NoneType'>},\n",
      " 'governmentType_label': {<class 'type'>, <class 'NoneType'>},\n",
      " 'homepage': {<class 'type'>, <class 'NoneType'>},\n",
      " 'isPartOf_label': {<class 'type'>, <class 'list'>, <class 'NoneType'>},\n",
      " 'maximumElevation': {<class 'NoneType'>},\n",
      " 'minimumElevation': {<class 'NoneType'>},\n",
      " 'name': {<class 'type'>, <class 'list'>, <class 'NoneType'>},\n",
      " 'populationDensity': {<class 'float'>, <class 'list'>, <class 'NoneType'>},\n",
      " 'populationTotal': {<class 'int'>, <class 'NoneType'>},\n",
      " 'timeZone_label': {<class 'type'>, <class 'NoneType'>},\n",
      " 'utcOffset': {<class 'list'>,\n",
      "               <class 'int'>,\n",
      "               <class 'NoneType'>,\n",
      "               <class 'type'>},\n",
      " 'wgs84_pos#lat': {<class 'float'>},\n",
      " 'wgs84_pos#long': {<class 'float'>}}\n",
      "{<class 'float'>, <class 'list'>, <class 'NoneType'>}\n",
      "{<class 'float'>, <class 'list'>, <class 'NoneType'>}\n"
     ]
    }
   ],
   "source": [
    "#!/usr/bin/env python\n",
    "# -*- coding: utf-8 -*-\n",
    "\n",
    "import codecs\n",
    "import csv\n",
    "import json\n",
    "import pprint\n",
    "\n",
    "CITIES = 'cities.csv'\n",
    "\n",
    "FIELDS = [\"name\", \"timeZone_label\", \"utcOffset\", \"homepage\", \"governmentType_label\",\n",
    "          \"isPartOf_label\", \"areaCode\", \"populationTotal\", \"elevation\",\n",
    "          \"maximumElevation\", \"minimumElevation\", \"populationDensity\",\n",
    "          \"wgs84_pos#lat\", \"wgs84_pos#long\", \"areaLand\", \"areaMetro\", \"areaUrban\"]\n",
    "\n",
    "def audit_file(filename, fields):\n",
    "    fieldtypes = {}\n",
    "    line_num = 0\n",
    "   \n",
    "    with open(filename,'r') as f:\n",
    "        reader = csv.DictReader(f)\n",
    "        header = reader.fieldnames\n",
    "#         print(header)\n",
    "        \n",
    "        for field in fields:\n",
    "            fieldtypes[field]=[]\n",
    "        \n",
    "        for row in reader:\n",
    "            line_num += 1\n",
    "            if(line_num >3):\n",
    "                for field in fields:\n",
    "                    test_item = row[field]\n",
    "\n",
    "                    if test_item =='NULL' or test_item=='':\n",
    "                        fieldtypes[field].append(type(None))\n",
    "                    elif test_item[:1]=='{':\n",
    "                        fieldtypes[field].append(type([]))\n",
    "                    else:\n",
    "                        testAnswer = False\n",
    "                        try:\n",
    "                           \n",
    "                            float(test_item)\n",
    "                            testAnswer = True\n",
    "                            int(test_item)\n",
    "                            fieldtypes[field].append(type(1))\n",
    "                        except ValueError :\n",
    "                            if testAnswer:\n",
    "                                fieldtypes[field].append(type(1.1))\n",
    "                            else:\n",
    "                                fieldtypes[field].append(type(str))\n",
    "                    \n",
    "        for item in fieldtypes:\n",
    "            fieldtypes[item] = set(fieldtypes[item])\n",
    "#             print()\n",
    "    #                     fieldtypes[field].append(row[field])\n",
    "                \n",
    "                \n",
    "                    \n",
    "#                     fieldtypes[filed].append(item['timeZone_label'])\n",
    "#                 print(item['timeZone_label'])\n",
    "\n",
    "    return fieldtypes\n",
    "\n",
    "\n",
    "def test():\n",
    "    fieldtypes = audit_file(CITIES, FIELDS)\n",
    "\n",
    "    pprint.pprint(fieldtypes)\n",
    "    print(fieldtypes[\"areaLand\"])\n",
    "    print(set([type(1.1), type([]), type(None)]))\n",
    "    assert fieldtypes[\"areaLand\"] == set([type(1.1), type([]), type(None)])\n",
    "    assert fieldtypes['areaMetro'] == set([type(1.1), type(None)])\n",
    "    \n",
    "if __name__ == \"__main__\":\n",
    "    test()\n"
   ]
  },
  {
   "cell_type": "code",
   "execution_count": null,
   "metadata": {
    "collapsed": true
   },
   "outputs": [],
   "source": []
  },
  {
   "cell_type": "code",
   "execution_count": null,
   "metadata": {
    "collapsed": true
   },
   "outputs": [],
   "source": []
  },
  {
   "cell_type": "code",
   "execution_count": null,
   "metadata": {
    "collapsed": true
   },
   "outputs": [],
   "source": []
  }
 ],
 "metadata": {
  "kernelspec": {
   "display_name": "Python 3",
   "language": "python",
   "name": "python3"
  },
  "language_info": {
   "codemirror_mode": {
    "name": "ipython",
    "version": 3
   },
   "file_extension": ".py",
   "mimetype": "text/x-python",
   "name": "python",
   "nbconvert_exporter": "python",
   "pygments_lexer": "ipython3",
   "version": "3.6.1"
  }
 },
 "nbformat": 4,
 "nbformat_minor": 2
}

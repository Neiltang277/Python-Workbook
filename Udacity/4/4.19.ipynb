{
 "cells": [
  {
   "cell_type": "code",
   "execution_count": 2,
   "metadata": {},
   "outputs": [
    {
     "name": "stdout",
     "output_type": "stream",
     "text": [
      "<input id=\"__EVENTVALIDATION\" name=\"__EVENTVALIDATION\" type=\"hidden\" value=\"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\"/>\n"
     ]
    }
   ],
   "source": [
    "#!/usr/bin/env python\n",
    "# -*- coding: utf-8 -*-\n",
    "# Please note that the function 'make_request' is provided for your reference only.\n",
    "# You will not be able to to actually use it from within the Udacity web UI.\n",
    "# Your task is to process the HTML using BeautifulSoup, extract the hidden\n",
    "# form field values for \"__EVENTVALIDATION\" and \"__VIEWSTATE\" and set the appropriate\n",
    "# values in the data dictionary.\n",
    "# All your changes should be in the 'extract_data' function\n",
    "from bs4 import BeautifulSoup\n",
    "from request import REQUEST\n",
    "import json\n",
    "\n",
    "html_page = \"page_source.html\"\n",
    "\n",
    "\n",
    "def extract_data(page):\n",
    "    data = {\"eventvalidation\": \"\",\n",
    "            \"viewstate\": \"\"}\n",
    "    with open(page, \"r\") as html:\n",
    "        # do something here to find the necessary values\n",
    "        soup = BeautifulSoup(html, \"lxml\")\n",
    "        ev = soup.find(id=\"__EVENTVALIDATION\")\n",
    "        print(ev)\n",
    "        data[\"eventvalidation\"] = ev[\"value\"]\n",
    "\n",
    "        vs = soup.find(id=\"__VIEWSTATE\")\n",
    "        data[\"viewstate\"] = vs[\"value\"]\n",
    "        \n",
    "        pass\n",
    "\n",
    "    return data\n",
    "\n",
    "\n",
    "def make_request(data):\n",
    "    eventvalidation = data[\"eventvalidation\"]\n",
    "    viewstate = data[\"viewstate\"]\n",
    "\n",
    "    r = request.post(\"http://www.transtats.bts.gov/Data_Elements.aspx?Data=2\",\n",
    "                    data={'AirportList': \"BOS\",\n",
    "                          'CarrierList': \"VX\",\n",
    "                          'Submit': 'Submit',\n",
    "                          \"__EVENTTARGET\": \"\",\n",
    "                          \"__EVENTARGUMENT\": \"\",\n",
    "                          \"__EVENTVALIDATION\": eventvalidation,\n",
    "                          \"__VIEWSTATE\": viewstate\n",
    "                    })\n",
    "\n",
    "    return r.text\n",
    "\n",
    "\n",
    "def test():\n",
    "    data = extract_data(html_page)\n",
    "#     assert data[\"eventvalidation\"] != \"\"\n",
    "#     assert data[\"eventvalidation\"].startswith(\"/wEWjAkCoIj1ng0\")\n",
    "#     assert data[\"viewstate\"].startswith(\"/wEPDwUKLTI\")\n",
    "\n",
    "    \n",
    "test()"
   ]
  },
  {
   "cell_type": "code",
   "execution_count": null,
   "metadata": {
    "collapsed": true
   },
   "outputs": [],
   "source": []
  }
 ],
 "metadata": {
  "kernelspec": {
   "display_name": "Python 3",
   "language": "python",
   "name": "python3"
  },
  "language_info": {
   "codemirror_mode": {
    "name": "ipython",
    "version": 3
   },
   "file_extension": ".py",
   "mimetype": "text/x-python",
   "name": "python",
   "nbconvert_exporter": "python",
   "pygments_lexer": "ipython3",
   "version": "3.6.0"
  }
 },
 "nbformat": 4,
 "nbformat_minor": 2
}

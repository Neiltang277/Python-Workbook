{
 "cells": [
  {
   "cell_type": "code",
   "execution_count": 2,
   "metadata": {
    "collapsed": false
   },
   "outputs": [
    {
     "name": "stdout",
     "output_type": "stream",
     "text": [
      "['Title', 'Released', 'Label', 'UK Chart Position', 'US Chart Position', 'BPI Certification', 'RIAA Certification']\n",
      "[{'Title': 'Please Please Me', 'Released': '22 March 1963', 'Label': 'Parlophone(UK)', 'UK Chart Position': '1', 'US Chart Position': '-', 'BPI Certification': 'Gold', 'RIAA Certification': 'Platinum'}, {'Title': 'With the Beatles', 'Released': '22 November 1963', 'Label': 'Parlophone(UK)', 'UK Chart Position': '1', 'US Chart Position': '-', 'BPI Certification': 'Platinum', 'RIAA Certification': 'Gold'}, {'Title': 'Beatlemania! With the Beatles', 'Released': '25 November 1963', 'Label': 'Capitol(CAN)', 'UK Chart Position': '-', 'US Chart Position': '-', 'BPI Certification': '', 'RIAA Certification': ''}, {'Title': 'Introducing... The Beatles', 'Released': '10 January 1964', 'Label': 'Vee-Jay(US)', 'UK Chart Position': '-', 'US Chart Position': '2', 'BPI Certification': '', 'RIAA Certification': ''}, {'Title': 'Meet the Beatles!', 'Released': '20 January 1964', 'Label': 'Capitol(US)', 'UK Chart Position': '-', 'US Chart Position': '1', 'BPI Certification': '', 'RIAA Certification': '5xPlatinum'}, {'Title': 'Twist and Shout', 'Released': '3 February 1964', 'Label': 'Capitol(CAN)', 'UK Chart Position': '-', 'US Chart Position': '-', 'BPI Certification': '', 'RIAA Certification': ''}, {'Title': \"The Beatles' Second Album\", 'Released': '10 April 1964', 'Label': 'Capitol(US)', 'UK Chart Position': '-', 'US Chart Position': '1', 'BPI Certification': '', 'RIAA Certification': '2xPlatinum'}, {'Title': \"The Beatles' Long Tall Sally\", 'Released': '11 May 1964', 'Label': 'Capitol(CAN)', 'UK Chart Position': '-', 'US Chart Position': '-', 'BPI Certification': '', 'RIAA Certification': ''}, {'Title': \"A Hard Day's Night\", 'Released': '26 June 1964', 'Label': 'United Artists(US)[C]', 'UK Chart Position': '-', 'US Chart Position': '1', 'BPI Certification': '', 'RIAA Certification': '4xPlatinum'}, {'Title': '', 'Released': '10 July 1964', 'Label': 'Parlophone(UK)', 'UK Chart Position': '1', 'US Chart Position': '-', 'BPI Certification': 'Gold', 'RIAA Certification': ''}, {'Title': 'Something New', 'Released': '20 July 1964', 'Label': 'Capitol(US)', 'UK Chart Position': '-', 'US Chart Position': '2', 'BPI Certification': '', 'RIAA Certification': 'Platinum'}]\n"
     ]
    }
   ],
   "source": [
    "# Your task is to read the input DATAFILE line by line, and for the first 10 lines (not including the header)\n",
    "# split each line on \",\" and then for each line, create a dictionary\n",
    "# where the key is the header title of the field, and the value is the value of that field in the row.\n",
    "# The function parse_file should return a list of dictionaries,\n",
    "# each data line in the file being a single list entry.\n",
    "# Field names and values should not contain extra whitespace, like spaces or newline characters.\n",
    "# You can use the Python string method strip() to remove the extra whitespace.\n",
    "# You have to parse only the first 10 data lines in this exercise,\n",
    "# so the returned list should have 10 entries!\n",
    "import os\n",
    "\n",
    "DATADIR = \"\"\n",
    "DATAFILE = \"beatles-diskography.csv\"\n",
    "\n",
    "\n",
    "def parse_file(datafile):\n",
    "    data = []\n",
    "    titles = []\n",
    "    with open(datafile, \"r\") as f:\n",
    "        i = 0\n",
    "        \n",
    "        for line in f:\n",
    "            if i == 0:\n",
    "                titles = line.strip('\\n').split(',')\n",
    "                print(titles)\n",
    "            else:\n",
    "                item =  line.strip('\\n').split(',')\n",
    "                d = {}\n",
    "\n",
    "#                 for ind, value in enumerate(titles)\n",
    "#                     entry[header[i].strip()]=value.strip()\n",
    "                for index in range(len(titles)):\n",
    "                    d[titles[index]]=item[index] \n",
    "                data.append(d)\n",
    "\n",
    "            i = i+1\n",
    "            if i>11:\n",
    "                break\n",
    "           \n",
    "    return data\n",
    "\n",
    "\n",
    "def test():\n",
    "    # a simple test of your implemetation\n",
    "    datafile = os.path.join(DATADIR, DATAFILE)\n",
    "    d = parse_file(datafile)\n",
    "    print(d)\n",
    "    \n",
    "test()"
   ]
  },
  {
   "cell_type": "code",
   "execution_count": null,
   "metadata": {
    "collapsed": true
   },
   "outputs": [],
   "source": []
  }
 ],
 "metadata": {
  "kernelspec": {
   "display_name": "Python 3",
   "language": "python",
   "name": "python3"
  },
  "language_info": {
   "codemirror_mode": {
    "name": "ipython",
    "version": 3
   },
   "file_extension": ".py",
   "mimetype": "text/x-python",
   "name": "python",
   "nbconvert_exporter": "python",
   "pygments_lexer": "ipython3",
   "version": "3.6.0"
  }
 },
 "nbformat": 4,
 "nbformat_minor": 2
}

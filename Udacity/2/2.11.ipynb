{
 "cells": [
  {
   "cell_type": "code",
   "execution_count": 23,
   "metadata": {
    "collapsed": false
   },
   "outputs": [
    {
     "name": "stdout",
     "output_type": "stream",
     "text": [
      "{'maxtime': [(2013, 8, 13, 17, 0, 0), 18779.025510000003, 2252.9838629999986, 2213.591470999997, 1305.3326479999985, 22017.113019000044, 5441.416266999993, 11231.955556999997, 1750.0671010000015, 64991.48543600003], 'maxvalue': 18779.025510000003, 'mintime': [(2013, 2, 3, 4, 0, 0), 6602.113898999982, 1018.0584819999998, 1404.9170829999998, 730.5194430000006, 9453.775344000025, 1734.5661990000008, 3761.9322600000005, 844.6491249999999, 25550.53183500001], 'minvalue': 6602.113898999982, 'avgcoast': 10976.933460679751}\n"
     ]
    }
   ],
   "source": [
    "#!/usr/bin/env python\n",
    "\"\"\"\n",
    "Your task is as follows:\n",
    "- read the provided Excel file\n",
    "- find and return the min, max and average values for the COAST region\n",
    "- find and return the time value for the min and max entries\n",
    "- the time values should be returned as Python tuples\n",
    "\n",
    "Please see the test function for the expected return format\n",
    "\n",
    "\"\"\"\n",
    "\n",
    "import xlrd\n",
    "from zipfile import ZipFile\n",
    "datafile = \"2013_ERCOT_Hourly_Load_Data.xls\"\n",
    "\n",
    "\n",
    "def open_zip(datafile):\n",
    "    with ZipFile('{0}.zip'.format(datafile), 'r') as myzip:\n",
    "        myzip.extractall()\n",
    "\n",
    "\n",
    "def parse_file(datafile):\n",
    "    workbook = xlrd.open_workbook(datafile)\n",
    "    sheet = workbook.sheet_by_index(0)\n",
    "    data = {\n",
    "            'maxtime': (0, 0, 0, 0, 0, 0),\n",
    "            'maxvalue': 0,\n",
    "            'mintime': (0, 0, 0, 0, 0, 0),\n",
    "            'minvalue': 0,\n",
    "            'avgcoast': 0\n",
    "    }\n",
    "    ### example on how you can get the data\n",
    "    sheet_data = [[sheet.cell_value(r, col) for col in range(sheet.ncols)] for r in range(sheet.nrows)]\n",
    "    nrows = sheet.nrows\n",
    "    jh = sheet.col_values(1, start_rowx=1)\n",
    "\n",
    "    data['maxvalue'] = max(jh)\n",
    "    data['minvalue'] = min(jh)\n",
    "    data['avgcoast'] = sum(jh)/(nrows-1)\n",
    "        \n",
    "#     print(max(sheet.col_values(1, start_rowx=1)))\n",
    "    \n",
    "    for row in range(nrows):\n",
    "        ss = sheet.row_values(row)\n",
    "        if min(sheet.col_values(1, start_rowx=1)) in ss:\n",
    "            ss[0] = xlrd.xldate_as_tuple(ss[0], 0)\n",
    "            data['mintime'] = ss;\n",
    "            \n",
    "        if max(sheet.col_values(1, start_rowx=1)) in ss:\n",
    "            ss[0] = xlrd.xldate_as_tuple(ss[0], 0)\n",
    "            data['maxtime'] = ss;\n",
    "        \n",
    "    \n",
    "            maxpos = jh.index(maxval)+1\n",
    "            minpnos = jh.index(minval)+1\n",
    "\n",
    "            maxtime = sheet.cell_value(maxpos,0)\n",
    "            realtime = xlrd.xldate_as_tuple(maxtime,0)\n",
    "            mintime = sheet.cell_value(minpos,0)\n",
    "            realmintime = xlrd.xldate_as_tuple(mintime,0)\n",
    "    \n",
    "    \n",
    "    return data\n",
    "\n",
    "\n",
    "def test():\n",
    "#     open_zip(datafile)\n",
    "    data = parse_file(datafile)\n",
    "    print(data)\n",
    "#     assert data['maxtime'] == (2013, 8, 13, 17, 0, 0)\n",
    "#     assert round(data['maxvalue'], 10) == round(18779.02551, 10)\n",
    "\n",
    "\n",
    "test()"
   ]
  },
  {
   "cell_type": "code",
   "execution_count": null,
   "metadata": {
    "collapsed": true
   },
   "outputs": [],
   "source": []
  }
 ],
 "metadata": {
  "kernelspec": {
   "display_name": "Python 3",
   "language": "python",
   "name": "python3"
  },
  "language_info": {
   "codemirror_mode": {
    "name": "ipython",
    "version": 3
   },
   "file_extension": ".py",
   "mimetype": "text/x-python",
   "name": "python",
   "nbconvert_exporter": "python",
   "pygments_lexer": "ipython3",
   "version": "3.6.0"
  }
 },
 "nbformat": 4,
 "nbformat_minor": 2
}

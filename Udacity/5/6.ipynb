{
 "cells": [
  {
   "cell_type": "code",
   "execution_count": 29,
   "metadata": {},
   "outputs": [],
   "source": [
    "#!/usr/bin/env python\n",
    "# -*- coding: utf-8 -*-\n",
    "# So, the problem is that the gigantic file is actually not a valid XML, because\n",
    "# it has several root elements, and XML declarations.\n",
    "# It is, a matter of fact, a collection of a lot of concatenated XML documents.\n",
    "# So, one solution would be to split the file into separate documents,\n",
    "# so that you can process the resulting files as valid XML documents.\n",
    "\n",
    "import xml.etree.ElementTree as ET\n",
    "PATENTS = 'patent.data'\n",
    "\n",
    "def get_root(fname):\n",
    "    tree = ET.parse(fname)\n",
    "    return tree.getroot()\n",
    "\n",
    "\n",
    "def split_file(filename):\n",
    "    \"\"\"\n",
    "    Split the input file into separate files, each containing a single patent.\n",
    "    As a hint - each patent declaration starts with the same line that was\n",
    "    causing the error found in the previous exercises.\n",
    "    \n",
    "    The new files should be saved with filename in the following format:\n",
    "    \"{}-{}\".format(filename, n) where n is a counter, starting from 0.\n",
    "    \"\"\"\n",
    "   \n",
    "    n = 0\n",
    "    getContents=[]\n",
    "    tempContent = []\n",
    "    with open(filename,'r') as f :\n",
    "        patentContent = f.readlines()\n",
    "        savedFile = ''\n",
    "        for item in patentContent:\n",
    "            if item.startswith(\"<?xml\"):\n",
    "                n+=1\n",
    "                if n == 1:\n",
    "                    getContents.append(item)\n",
    "                else:\n",
    "                    with open(\"{}-{}\".format(filename, (n-2)),'w') as w:\n",
    "                        w.writelines(getContents.copy())\n",
    "#                     n+=1\n",
    "                    getContents=[]\n",
    "                    getContents.append(item)\n",
    "            else:\n",
    "                getContents.append(item)\n",
    "        with open(\"{}-{}\".format(filename, n-1),'w') as w:\n",
    "            w.writelines(getContents.copy())\n",
    "                    \n",
    "\n",
    "    pass\n",
    "\n",
    "\n",
    "def test():\n",
    "    split_file(PATENTS)\n",
    "    for n in range(4):\n",
    "        try:\n",
    "            fname = \"{}-{}\".format(PATENTS, n)\n",
    "            f = open(fname, \"r\")\n",
    "            if not f.readline().startswith(\"<?xml\"):\n",
    "                print(\"You have not split the file {} in the correct boundary!\".format(fname))\n",
    "            f.close()\n",
    "        except:\n",
    "            print(\"Could not find file {}. Check if the filename is correct!\".format(fname))\n",
    "\n",
    "\n",
    "test()"
   ]
  },
  {
   "cell_type": "code",
   "execution_count": null,
   "metadata": {
    "collapsed": true
   },
   "outputs": [],
   "source": []
  },
  {
   "cell_type": "code",
   "execution_count": null,
   "metadata": {
    "collapsed": true
   },
   "outputs": [],
   "source": []
  }
 ],
 "metadata": {
  "kernelspec": {
   "display_name": "Python 3",
   "language": "python",
   "name": "python3"
  },
  "language_info": {
   "codemirror_mode": {
    "name": "ipython",
    "version": 3
   },
   "file_extension": ".py",
   "mimetype": "text/x-python",
   "name": "python",
   "nbconvert_exporter": "python",
   "pygments_lexer": "ipython3",
   "version": "3.6.0"
  }
 },
 "nbformat": 4,
 "nbformat_minor": 2
}

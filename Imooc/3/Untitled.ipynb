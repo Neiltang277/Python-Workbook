{
 "cells": [
  {
   "cell_type": "code",
   "execution_count": 7,
   "metadata": {},
   "outputs": [
    {
     "name": "stdout",
     "output_type": "stream",
     "text": [
      "{'id': 1, 'password': 'very-secret'}\n"
     ]
    }
   ],
   "source": [
    "import pymysql.cursors\n",
    "\n",
    "# Connect to the database\n",
    "connection = pymysql.connect(host='localhost',\n",
    "                             user='root',\n",
    "                             password='admin',\n",
    "                             db='practice',\n",
    "                             charset='utf8mb4',\n",
    "                             cursorclass=pymysql.cursors.DictCursor)\n",
    "\n",
    "try:\n",
    "    with connection.cursor() as cursor:\n",
    "        # Create a new record\n",
    "        sql = \"INSERT INTO `users` (`email`, `password`) VALUES (%s, %s)\"\n",
    "        cursor.execute(sql, ('webmaster@python.org', 'very-secret'))\n",
    "\n",
    "    # connection is not autocommit by default. So you must commit to save\n",
    "    # your changes.\n",
    "    connection.commit()\n",
    "\n",
    "    with connection.cursor() as cursor:\n",
    "        # Read a single record\n",
    "        sql = \"SELECT `id`, `password` FROM `users` WHERE `email`=%s\"\n",
    "        cursor.execute(sql, ('webmaster@python.org',))\n",
    "        result = cursor.fetchone()\n",
    "        print(result)\n",
    "finally:\n",
    "    connection.close()"
   ]
  },
  {
   "cell_type": "code",
   "execution_count": null,
   "metadata": {
    "collapsed": true
   },
   "outputs": [],
   "source": []
  },
  {
   "cell_type": "code",
   "execution_count": 26,
   "metadata": {},
   "outputs": [
    {
     "name": "stdout",
     "output_type": "stream",
     "text": [
      "[{'id': 3, 'title': '男子长得像\"祁同伟\"挨打 打人者:为何加害检察官', 'content': '新闻内容', 'types': '百家', 'image': '/static/img/news/02.png', 'author': None, 'view_count': 0, 'created_at': None, 'is_valid': 1}, {'id': 6, 'title': '证监会:前发审委员冯小树违法买卖股票被罚4.99亿', 'content': '新闻内容', 'types': '百家', 'image': '/static/img/news/08.png', 'author': None, 'view_count': 0, 'created_at': None, 'is_valid': 1}, {'id': 8, 'title': '外交部回应安倍参拜靖国神社:同军国主义划清界限', 'content': '新闻内容', 'types': '百家', 'image': '/static/img/news/new1.jpg', 'author': None, 'view_count': 0, 'created_at': None, 'is_valid': 1}, {'id': 9, 'title': '\"萨德\"供地违法？韩民众联名起诉要求撤回供地', 'content': '新闻内容', 'types': '百家', 'image': '/static/img/news/new1.jpg', 'author': None, 'view_count': 0, 'created_at': None, 'is_valid': 1}]\n"
     ]
    }
   ],
   "source": [
    "import pymysql.cursors\n",
    "class MysqlSearch(object):\n",
    "    def __init__(self):\n",
    "        self.get_conn()\n",
    "        \n",
    "    def get_conn(self):\n",
    "        try:\n",
    "            # Connect to the database\n",
    "            self.connection = pymysql.connect(host='localhost',\n",
    "                                              user='root',\n",
    "                                              password='admin',\n",
    "                                              db='practice',\n",
    "                                              charset='utf8mb4',\n",
    "                                              cursorclass=pymysql.cursors.DictCursor)\n",
    "        except:\n",
    "            print (\"Error Connect\") \n",
    "    def close_conn(self):\n",
    "        try:\n",
    "            if self.connection:\n",
    "                self.connection.close()\n",
    "        except:\n",
    "            print (\"Error Close\") \n",
    "    def get_one(self):\n",
    "        with self.connection.cursor() as cursor:\n",
    "            # Read a single record\n",
    "            sql ='SELECT * FROM `news` WHERE `types` = %s ORDER BY `created_at` DESC;'\n",
    "            cursor.execute(sql, ('百家',))\n",
    "            result = cursor.fetchone()\n",
    "            print(result)\n",
    "            rest = dict(zip([k[0] for k in cursor.description],cursor.fetchone()))\n",
    "            print(rest)\n",
    "        self.close_conn()\n",
    "    def get_more(self):\n",
    "        with self.connection.cursor() as cursor:\n",
    "            # Read a single record\n",
    "            sql ='SELECT * FROM `news` WHERE `types` = %s ORDER BY `created_at` DESC;'\n",
    "            cursor.execute(sql, ('百家',))\n",
    "#             result = cursor.fetchone()\n",
    "#             print(result)\n",
    "            print(cursor.fetchall())\n",
    "#             rest = [dict(zip([k[0] for k in cursor.description],row))\n",
    "#                    for row in cursor.fetchall()]\n",
    "#             print(rest)\n",
    "        self.close_conn()\n",
    "    def add_one(self):\n",
    "        \n",
    "def main():\n",
    "    obj = MysqlSearch()\n",
    "#     obj.get_one()\n",
    "    obj.get_more()\n",
    "if __name__=='__main__':\n",
    "    main()"
   ]
  },
  {
   "cell_type": "code",
   "execution_count": null,
   "metadata": {
    "collapsed": true
   },
   "outputs": [],
   "source": []
  }
 ],
 "metadata": {
  "kernelspec": {
   "display_name": "Python 3",
   "language": "python",
   "name": "python3"
  },
  "language_info": {
   "codemirror_mode": {
    "name": "ipython",
    "version": 3
   },
   "file_extension": ".py",
   "mimetype": "text/x-python",
   "name": "python",
   "nbconvert_exporter": "python",
   "pygments_lexer": "ipython3",
   "version": "3.6.1"
  }
 },
 "nbformat": 4,
 "nbformat_minor": 2
}
